{
 "cells": [
  {
   "cell_type": "markdown",
   "metadata": {},
   "source": [
    "# IMPORT PACKAGES"
   ]
  },
  {
   "cell_type": "code",
   "execution_count": 2,
   "metadata": {
    "scrolled": false
   },
   "outputs": [
    {
     "name": "stdout",
     "output_type": "stream",
     "text": [
      "Collecting scikit-learn==0.20.3\n",
      "  Downloading https://files.pythonhosted.org/packages/47/a6/5cfab2684c3da61dece651796aefb2542a1970a8ba9b9efee4f730ccd90b/scikit_learn-0.20.3-cp37-cp37m-win_amd64.whl (4.8MB)\n",
      "Requirement already satisfied: numpy>=1.8.2 in c:\\programdata\\anaconda3\\lib\\site-packages (from scikit-learn==0.20.3) (1.16.4)\n",
      "Requirement already satisfied: scipy>=0.13.3 in c:\\programdata\\anaconda3\\lib\\site-packages (from scikit-learn==0.20.3) (1.2.1)\n",
      "Installing collected packages: scikit-learn\n",
      "  Found existing installation: scikit-learn 0.21.2\n",
      "    Uninstalling scikit-learn-0.21.2:\n"
     ]
    },
    {
     "name": "stderr",
     "output_type": "stream",
     "text": [
      "ERROR: Could not install packages due to an EnvironmentError: [WinError 5] Access is denied: 'c:\\\\programdata\\\\anaconda3\\\\lib\\\\site-packages\\\\scikit_learn-0.21.2.dist-info\\\\COPYING'\n",
      "Consider using the `--user` option or check the permissions.\n",
      "\n"
     ]
    },
    {
     "name": "stdout",
     "output_type": "stream",
     "text": [
      "Requirement already satisfied: pandas==0.24.2 in c:\\programdata\\anaconda3\\lib\\site-packages (0.24.2)\n",
      "Requirement already satisfied: python-dateutil>=2.5.0 in c:\\programdata\\anaconda3\\lib\\site-packages (from pandas==0.24.2) (2.8.0)\n",
      "Requirement already satisfied: pytz>=2011k in c:\\programdata\\anaconda3\\lib\\site-packages (from pandas==0.24.2) (2019.1)\n",
      "Requirement already satisfied: numpy>=1.12.0 in c:\\programdata\\anaconda3\\lib\\site-packages (from pandas==0.24.2) (1.16.4)\n",
      "Requirement already satisfied: six>=1.5 in c:\\programdata\\anaconda3\\lib\\site-packages (from python-dateutil>=2.5.0->pandas==0.24.2) (1.12.0)\n",
      "Collecting numpy==1.16.3\n",
      "  Downloading https://files.pythonhosted.org/packages/4e/9d/c129d78e6b942303b762ccfdf1f8339de80c5e6021b14ef0c99ec5bdc6aa/numpy-1.16.3-cp37-cp37m-win_amd64.whl (11.9MB)\n",
      "Installing collected packages: numpy\n",
      "  Found existing installation: numpy 1.16.4\n",
      "    Uninstalling numpy-1.16.4:\n"
     ]
    },
    {
     "name": "stderr",
     "output_type": "stream",
     "text": [
      "ERROR: Could not install packages due to an EnvironmentError: [WinError 5] Access is denied: 'c:\\\\programdata\\\\anaconda3\\\\lib\\\\site-packages\\\\numpy\\\\compat\\\\py3k.py'\n",
      "Consider using the `--user` option or check the permissions.\n",
      "\n"
     ]
    },
    {
     "name": "stdout",
     "output_type": "stream",
     "text": [
      "Collecting nltk==3.3\n",
      "  Downloading https://files.pythonhosted.org/packages/50/09/3b1755d528ad9156ee7243d52aa5cd2b809ef053a0f31b53d92853dd653a/nltk-3.3.0.zip (1.4MB)\n",
      "Requirement already satisfied: six in c:\\programdata\\anaconda3\\lib\\site-packages (from nltk==3.3) (1.12.0)\n",
      "Building wheels for collected packages: nltk\n",
      "  Building wheel for nltk (setup.py): started\n",
      "  Building wheel for nltk (setup.py): finished with status 'done'\n",
      "  Stored in directory: C:\\Users\\axf0409\\AppData\\Local\\pip\\Cache\\wheels\\d1\\ab\\40\\3bceea46922767e42986aef7606a600538ca80de6062dc266c\n",
      "Successfully built nltk\n",
      "Installing collected packages: nltk\n",
      "  Found existing installation: nltk 3.4.4\n",
      "    Uninstalling nltk-3.4.4:\n"
     ]
    },
    {
     "name": "stderr",
     "output_type": "stream",
     "text": [
      "ERROR: Could not install packages due to an EnvironmentError: [WinError 5] Access is denied: 'c:\\\\programdata\\\\anaconda3\\\\lib\\\\site-packages\\\\nltk-3.4.4.dist-info\\\\INSTALLER'\n",
      "Consider using the `--user` option or check the permissions.\n",
      "\n"
     ]
    },
    {
     "name": "stdout",
     "output_type": "stream",
     "text": [
      "Collecting matplotlib==2.2.2\n",
      "  Downloading https://files.pythonhosted.org/packages/76/2a/5bae8ef6406d90ede9389f76d55941973cbe4a32fdd2678143dc37a6a160/matplotlib-2.2.2-cp37-cp37m-win_amd64.whl (8.7MB)\n",
      "Requirement already satisfied: six>=1.10 in c:\\programdata\\anaconda3\\lib\\site-packages (from matplotlib==2.2.2) (1.12.0)\n",
      "Requirement already satisfied: kiwisolver>=1.0.1 in c:\\programdata\\anaconda3\\lib\\site-packages (from matplotlib==2.2.2) (1.1.0)\n",
      "Requirement already satisfied: cycler>=0.10 in c:\\programdata\\anaconda3\\lib\\site-packages (from matplotlib==2.2.2) (0.10.0)\n",
      "Requirement already satisfied: python-dateutil>=2.1 in c:\\programdata\\anaconda3\\lib\\site-packages (from matplotlib==2.2.2) (2.8.0)\n",
      "Requirement already satisfied: numpy>=1.7.1 in c:\\programdata\\anaconda3\\lib\\site-packages (from matplotlib==2.2.2) (1.16.4)\n",
      "Requirement already satisfied: pytz in c:\\programdata\\anaconda3\\lib\\site-packages (from matplotlib==2.2.2) (2019.1)\n",
      "Requirement already satisfied: pyparsing!=2.0.4,!=2.1.2,!=2.1.6,>=2.0.1 in c:\\programdata\\anaconda3\\lib\\site-packages (from matplotlib==2.2.2) (2.4.0)\n",
      "Requirement already satisfied: setuptools in c:\\programdata\\anaconda3\\lib\\site-packages (from kiwisolver>=1.0.1->matplotlib==2.2.2) (41.0.1)\n",
      "Installing collected packages: matplotlib\n",
      "  Found existing installation: matplotlib 3.1.0\n",
      "    Uninstalling matplotlib-3.1.0:\n"
     ]
    },
    {
     "name": "stderr",
     "output_type": "stream",
     "text": [
      "ERROR: Could not install packages due to an EnvironmentError: [WinError 5] Access is denied: 'c:\\\\programdata\\\\anaconda3\\\\lib\\\\site-packages\\\\__pycache__\\\\pylab.cpython-37.pyc'\n",
      "Consider using the `--user` option or check the permissions.\n",
      "\n"
     ]
    },
    {
     "name": "stdout",
     "output_type": "stream",
     "text": [
      "Collecting gensim==3.5.0\n",
      "  Downloading https://files.pythonhosted.org/packages/d1/8d/f20e715f3eae5a277b13a31d440d65f294fadbc2047c4d02226e1de05b6e/gensim-3.5.0.tar.gz (22.9MB)\n",
      "Requirement already satisfied: numpy>=1.11.3 in c:\\programdata\\anaconda3\\lib\\site-packages (from gensim==3.5.0) (1.16.4)\n",
      "Requirement already satisfied: scipy>=0.18.1 in c:\\programdata\\anaconda3\\lib\\site-packages (from gensim==3.5.0) (1.2.1)\n",
      "Requirement already satisfied: six>=1.5.0 in c:\\programdata\\anaconda3\\lib\\site-packages (from gensim==3.5.0) (1.12.0)\n",
      "Collecting smart_open>=1.2.1 (from gensim==3.5.0)\n",
      "  Downloading https://files.pythonhosted.org/packages/37/c0/25d19badc495428dec6a4bf7782de617ee0246a9211af75b302a2681dea7/smart_open-1.8.4.tar.gz (63kB)\n",
      "Requirement already satisfied: boto>=2.32 in c:\\programdata\\anaconda3\\lib\\site-packages (from smart_open>=1.2.1->gensim==3.5.0) (2.49.0)\n",
      "Requirement already satisfied: requests in c:\\programdata\\anaconda3\\lib\\site-packages (from smart_open>=1.2.1->gensim==3.5.0) (2.22.0)\n",
      "Collecting boto3 (from smart_open>=1.2.1->gensim==3.5.0)\n",
      "  Downloading https://files.pythonhosted.org/packages/cd/c0/180d7b899d00353d4421a396686004f4d5e32e0ee9aee762dea857815c18/boto3-1.9.235-py2.py3-none-any.whl (128kB)\n",
      "Requirement already satisfied: urllib3!=1.25.0,!=1.25.1,<1.26,>=1.21.1 in c:\\programdata\\anaconda3\\lib\\site-packages (from requests->smart_open>=1.2.1->gensim==3.5.0) (1.24.2)\n",
      "Requirement already satisfied: certifi>=2017.4.17 in c:\\programdata\\anaconda3\\lib\\site-packages (from requests->smart_open>=1.2.1->gensim==3.5.0) (2019.6.16)\n",
      "Requirement already satisfied: idna<2.9,>=2.5 in c:\\programdata\\anaconda3\\lib\\site-packages (from requests->smart_open>=1.2.1->gensim==3.5.0) (2.8)\n",
      "Requirement already satisfied: chardet<3.1.0,>=3.0.2 in c:\\programdata\\anaconda3\\lib\\site-packages (from requests->smart_open>=1.2.1->gensim==3.5.0) (3.0.4)\n",
      "Collecting botocore<1.13.0,>=1.12.235 (from boto3->smart_open>=1.2.1->gensim==3.5.0)\n",
      "  Downloading https://files.pythonhosted.org/packages/7c/48/431bcc5692592b14dd32c4484e6508d4f777fc99991dc45ed7d2fc4d5b83/botocore-1.12.235-py2.py3-none-any.whl (5.7MB)\n",
      "Collecting jmespath<1.0.0,>=0.7.1 (from boto3->smart_open>=1.2.1->gensim==3.5.0)\n",
      "  Downloading https://files.pythonhosted.org/packages/83/94/7179c3832a6d45b266ddb2aac329e101367fbdb11f425f13771d27f225bb/jmespath-0.9.4-py2.py3-none-any.whl\n",
      "Collecting s3transfer<0.3.0,>=0.2.0 (from boto3->smart_open>=1.2.1->gensim==3.5.0)\n",
      "  Downloading https://files.pythonhosted.org/packages/16/8a/1fc3dba0c4923c2a76e1ff0d52b305c44606da63f718d14d3231e21c51b0/s3transfer-0.2.1-py2.py3-none-any.whl (70kB)\n",
      "Requirement already satisfied: python-dateutil<3.0.0,>=2.1; python_version >= \"2.7\" in c:\\programdata\\anaconda3\\lib\\site-packages (from botocore<1.13.0,>=1.12.235->boto3->smart_open>=1.2.1->gensim==3.5.0) (2.8.0)\n",
      "Requirement already satisfied: docutils<0.16,>=0.10 in c:\\programdata\\anaconda3\\lib\\site-packages (from botocore<1.13.0,>=1.12.235->boto3->smart_open>=1.2.1->gensim==3.5.0) (0.14)\n",
      "Building wheels for collected packages: gensim, smart-open\n",
      "  Building wheel for gensim (setup.py): started\n",
      "  Building wheel for gensim (setup.py): finished with status 'done'\n",
      "  Stored in directory: C:\\Users\\axf0409\\AppData\\Local\\pip\\Cache\\wheels\\26\\7b\\c6\\8f29903415a88fc8c9fb99c6c027684d5ce7e6da98cf71a5b9\n",
      "  Building wheel for smart-open (setup.py): started\n",
      "  Building wheel for smart-open (setup.py): finished with status 'done'\n",
      "  Stored in directory: C:\\Users\\axf0409\\AppData\\Local\\pip\\Cache\\wheels\\5f\\ea\\fb\\5b1a947b369724063b2617011f1540c44eb00e28c3d2ca8692\n",
      "Successfully built gensim smart-open\n",
      "Installing collected packages: jmespath, botocore, s3transfer, boto3, smart-open, gensim\n",
      "Successfully installed boto3-1.9.235 botocore-1.12.235 gensim-3.5.0 jmespath-0.9.4 s3transfer-0.2.1 smart-open-1.8.4\n"
     ]
    }
   ],
   "source": [
    "!pip install  scikit-learn==0.20.3\n",
    "!pip install  pandas==0.24.2\n",
    "!pip install  numpy==1.16.3\n",
    "!pip install  nltk==3.3\n",
    "!pip install  matplotlib==2.2.2\n",
    "!pip install  gensim==3.5.0"
   ]
  },
  {
   "cell_type": "code",
   "execution_count": 33,
   "metadata": {
    "scrolled": false
   },
   "outputs": [
    {
     "name": "stderr",
     "output_type": "stream",
     "text": [
      "[nltk_data] Downloading package wordnet to\n",
      "[nltk_data]     C:\\Users\\axf0409\\AppData\\Roaming\\nltk_data...\n",
      "[nltk_data]   Package wordnet is already up-to-date!\n"
     ]
    }
   ],
   "source": [
    "# data exploration and analysis\n",
    "import pandas as pd\n",
    "import numpy as np\n",
    "import matplotlib.pyplot as plt\n",
    "# from scipy import interp\n",
    "\n",
    "\n",
    "# misc toolkit\n",
    "import warnings\n",
    "warnings.filterwarnings('ignore')\n",
    "import itertools\n",
    "\n",
    "\n",
    "# ml toolkit\n",
    "from sklearn.feature_extraction.text import TfidfVectorizer, CountVectorizer\n",
    "\n",
    "\n",
    "# natural language toolkit\n",
    "from nltk.tokenize import RegexpTokenizer\n",
    "from nltk.corpus import stopwords\n",
    "from nltk.stem import WordNetLemmatizer, SnowballStemmer\n",
    "import nltk\n",
    "nltk.download('wordnet')\n",
    "from gensim import corpora, models\n",
    "from gensim.utils import simple_preprocess\n",
    "from gensim.parsing.preprocessing import STOPWORDS\n",
    "import gensim"
   ]
  },
  {
   "cell_type": "code",
   "execution_count": 34,
   "metadata": {
    "scrolled": true
   },
   "outputs": [],
   "source": [
    "# query bq using pandas\n",
    "def bq_table_to_df(sql, project='analytics-assrt-planning-thd'):\n",
    "    return pd.read_gbq(sql, project_id=project, dialect = 'standard', verbose=False)\n",
    "\n",
    "def lem_stem(text):\n",
    "    return stemmer.stem(lm.lemmatize(text, pos='v'))\n",
    "\n",
    "# for every word in our document lemmatize & stem, remove stop words\n",
    "def tokenize_lemmatize(text):\n",
    "    return [lem_stem(token) for token in gensim.utils.simple_preprocess(text) if token not in gensim.parsing.preprocessing.STOPWORDS]"
   ]
  },
  {
   "cell_type": "markdown",
   "metadata": {},
   "source": [
    "# GRAB MODELING DATA FROM BIGQUERY"
   ]
  },
  {
   "cell_type": "code",
   "execution_count": 45,
   "metadata": {},
   "outputs": [],
   "source": [
    "# grabbing a subset of data\n",
    "\n",
    "sql=\"\"\"\n",
    "SELECT A.*\n",
    "FROM `pr-supply-chain-thd.TEMP_BQA.SMRT_HM_TRAIN_TASK_ID_22576` A\n",
    "INNER JOIN\n",
    "  `pr-edw-views-thd.SHARED.SKU_HIER_FD` B\n",
    "ON A.SKU_NBR = B.SKU_NBR\n",
    "AND A.SKU_CRT_DT = B.SKU_CRT_DT\n",
    "AND B.SUB_DEPT_NBR NOT IN ('0030','029A')\n",
    "\n",
    "\"\"\"\n",
    "df_train=bq_table_to_df(sql)"
   ]
  },
  {
   "cell_type": "code",
   "execution_count": 38,
   "metadata": {
    "scrolled": false
   },
   "outputs": [],
   "source": [
    "sql=\"\"\"\n",
    "SELECT *\n",
    "FROM `pr-supply-chain-thd.TEMP_BQA.SMRT_HM_TRAIN_TASK_ID_22576`\n",
    "\"\"\"\n",
    "\n",
    "df_train=bq_table_to_df(sql)"
   ]
  },
  {
   "cell_type": "markdown",
   "metadata": {},
   "source": [
    "# Preview Train Table"
   ]
  },
  {
   "cell_type": "code",
   "execution_count": 39,
   "metadata": {
    "scrolled": false
   },
   "outputs": [
    {
     "name": "stdout",
     "output_type": "stream",
     "text": [
      "(13968, 5)\n"
     ]
    },
    {
     "data": {
      "text/html": [
       "<div>\n",
       "<style scoped>\n",
       "    .dataframe tbody tr th:only-of-type {\n",
       "        vertical-align: middle;\n",
       "    }\n",
       "\n",
       "    .dataframe tbody tr th {\n",
       "        vertical-align: top;\n",
       "    }\n",
       "\n",
       "    .dataframe thead th {\n",
       "        text-align: right;\n",
       "    }\n",
       "</style>\n",
       "<table border=\"1\" class=\"dataframe\">\n",
       "  <thead>\n",
       "    <tr style=\"text-align: right;\">\n",
       "      <th></th>\n",
       "      <th>SKU_NBR</th>\n",
       "      <th>SKU_CRT_DT</th>\n",
       "      <th>SKU_KEY</th>\n",
       "      <th>ATTR_VAL_LIST</th>\n",
       "      <th>SMART_HM_C</th>\n",
       "    </tr>\n",
       "  </thead>\n",
       "  <tbody>\n",
       "    <tr>\n",
       "      <th>0</th>\n",
       "      <td>509711</td>\n",
       "      <td>1999-06-10</td>\n",
       "      <td>50971119990610</td>\n",
       "      <td>THESE ROSETTES ARE CONSTRUCTED FROM STEEL AND...</td>\n",
       "      <td>0</td>\n",
       "    </tr>\n",
       "    <tr>\n",
       "      <th>1</th>\n",
       "      <td>469434</td>\n",
       "      <td>1999-06-10</td>\n",
       "      <td>46943419990610</td>\n",
       "      <td>PRIME-LINE, U 9966, REPLACEMENT LOCK CYLINDER...</td>\n",
       "      <td>0</td>\n",
       "    </tr>\n",
       "    <tr>\n",
       "      <th>2</th>\n",
       "      <td>585736</td>\n",
       "      <td>2002-12-11</td>\n",
       "      <td>58573620021211</td>\n",
       "      <td>UL LISTED, THE CORDELIA LIGHTING WALL-MOUNT O...</td>\n",
       "      <td>0</td>\n",
       "    </tr>\n",
       "    <tr>\n",
       "      <th>3</th>\n",
       "      <td>487141</td>\n",
       "      <td>2002-12-11</td>\n",
       "      <td>48714120021211</td>\n",
       "      <td>RHEEM WATER HEATERS, SHORT HEIGHTS AND SMALL ...</td>\n",
       "      <td>0</td>\n",
       "    </tr>\n",
       "    <tr>\n",
       "      <th>4</th>\n",
       "      <td>585722</td>\n",
       "      <td>2002-12-11</td>\n",
       "      <td>58572220021211</td>\n",
       "      <td>STEEL HOUSING IS MADE FOR OUTDOOR INSTALLATIO...</td>\n",
       "      <td>0</td>\n",
       "    </tr>\n",
       "  </tbody>\n",
       "</table>\n",
       "</div>"
      ],
      "text/plain": [
       "   SKU_NBR SKU_CRT_DT         SKU_KEY  \\\n",
       "0   509711 1999-06-10  50971119990610   \n",
       "1   469434 1999-06-10  46943419990610   \n",
       "2   585736 2002-12-11  58573620021211   \n",
       "3   487141 2002-12-11  48714120021211   \n",
       "4   585722 2002-12-11  58572220021211   \n",
       "\n",
       "                                       ATTR_VAL_LIST  SMART_HM_C  \n",
       "0   THESE ROSETTES ARE CONSTRUCTED FROM STEEL AND...           0  \n",
       "1   PRIME-LINE, U 9966, REPLACEMENT LOCK CYLINDER...           0  \n",
       "2   UL LISTED, THE CORDELIA LIGHTING WALL-MOUNT O...           0  \n",
       "3   RHEEM WATER HEATERS, SHORT HEIGHTS AND SMALL ...           0  \n",
       "4   STEEL HOUSING IS MADE FOR OUTDOOR INSTALLATIO...           0  "
      ]
     },
     "execution_count": 39,
     "metadata": {},
     "output_type": "execute_result"
    }
   ],
   "source": [
    "# preview dataframe\n",
    "print(df_train.shape)\n",
    "df_train.head()"
   ]
  },
  {
   "cell_type": "markdown",
   "metadata": {},
   "source": [
    "# Preprocess Data\n",
    "\n",
    "### Tokenizer\n",
    "is, a function that will split your text into single words and removes punctuation\n",
    "\n",
    "### Lemmatizer\n",
    "words in third-person are changed to first person, and verbs in past and future tenses are changed into present (for example, goes, went, and gone all become go).\n",
    "\n",
    "### Stemmer\n",
    "removes the inflection, reducing the word to its root (for example, shoes becomes shoe)."
   ]
  },
  {
   "cell_type": "code",
   "execution_count": 47,
   "metadata": {
    "scrolled": true
   },
   "outputs": [],
   "source": [
    "# create an instance of a tokenizer\n",
    "tokenizer = RegexpTokenizer(r'\\w+')\n",
    "\n",
    "# create an instance of a lemmatizer\n",
    "lm = WordNetLemmatizer()\n",
    "\n",
    "# create an instance of a stemmer\n",
    "stemmer = SnowballStemmer(\"english\")\n",
    "\n",
    "\n",
    "# term frequency id vectorizer\n",
    "tfv = TfidfVectorizer(\n",
    "#              min_df=3 # minimum document frequency (ignores words lower than threshold)\n",
    "#             ,max_features=None # if not none builds vocab that only considers top features across corpus\n",
    "#             ,strip_accents='unicode' # remove accents and perform other character normalization\n",
    "#             ,analyzer='word' # determines if the feaeture should be made of word or something else\n",
    "#             ,token_pattern=r'\\w+' # token pattern determines what is a token\n",
    "#              tokenizer=tokenize_lemmatize # use custom tokenizer to perform stemming/lemm/tokenization\n",
    "#             ,ngram_range=(1, 1) # (1, 3) outputs 1 & 3 word tokens\n",
    "#             ,use_idf=1 \n",
    "#             ,smooth_idf=1\n",
    "    \n",
    "             min_df=1\n",
    "            ,ngram_range=(1, 1)       \n",
    "            ,tokenizer=tokenize_lemmatize\n",
    "            ,max_features=None\n",
    "            )\n",
    "\n",
    "# fit to this dataset to learn features\n",
    "tfv.fit(df_train['ATTR_VAL_LIST'])\n",
    "\n",
    "# with the fitted tfidf object transform \n",
    "# the datasets into matrixes\n",
    "df_train_x=tfv.transform(df_train['ATTR_VAL_LIST'])"
   ]
  },
  {
   "cell_type": "markdown",
   "metadata": {},
   "source": [
    "# Investigate Data Preprocessing\n",
    "\n",
    "Some great in depth analysis and examples of exploring what is happening under the hood wheh completing Tf-Idf-Vectorization\n",
    "\n",
    "\n",
    "\n",
    "[https://buhrmann.github.io/tfidf-analysis.html](url_here)"
   ]
  },
  {
   "cell_type": "code",
   "execution_count": 41,
   "metadata": {
    "scrolled": true
   },
   "outputs": [],
   "source": [
    "# used as part of the other functions\n",
    "def top_tfidf_feats(row, features, top_n=25):\n",
    "    ''' Get top n tfidf values in row and return them with their corresponding feature names.'''\n",
    "    topn_ids = np.argsort(row)[::-1][:top_n]\n",
    "    top_feats = [(features[i], row[i]) for i in topn_ids]\n",
    "    df = pd.DataFrame(top_feats)\n",
    "    df.columns = ['feature', 'tfidf']\n",
    "    return df"
   ]
  },
  {
   "cell_type": "code",
   "execution_count": 42,
   "metadata": {
    "scrolled": true
   },
   "outputs": [
    {
     "data": {
      "text/html": [
       "<div>\n",
       "<style scoped>\n",
       "    .dataframe tbody tr th:only-of-type {\n",
       "        vertical-align: middle;\n",
       "    }\n",
       "\n",
       "    .dataframe tbody tr th {\n",
       "        vertical-align: top;\n",
       "    }\n",
       "\n",
       "    .dataframe thead th {\n",
       "        text-align: right;\n",
       "    }\n",
       "</style>\n",
       "<table border=\"1\" class=\"dataframe\">\n",
       "  <thead>\n",
       "    <tr style=\"text-align: right;\">\n",
       "      <th></th>\n",
       "      <th>feature</th>\n",
       "      <th>tfidf</th>\n",
       "    </tr>\n",
       "  </thead>\n",
       "  <tbody>\n",
       "    <tr>\n",
       "      <th>0</th>\n",
       "      <td>key</td>\n",
       "      <td>0.353601</td>\n",
       "    </tr>\n",
       "    <tr>\n",
       "      <th>1</th>\n",
       "      <td>zinc</td>\n",
       "      <td>0.349395</td>\n",
       "    </tr>\n",
       "    <tr>\n",
       "      <th>2</th>\n",
       "      <td>prime</td>\n",
       "      <td>0.330694</td>\n",
       "    </tr>\n",
       "    <tr>\n",
       "      <th>3</th>\n",
       "      <td>rim</td>\n",
       "      <td>0.324199</td>\n",
       "    </tr>\n",
       "    <tr>\n",
       "      <th>4</th>\n",
       "      <td>cylind</td>\n",
       "      <td>0.285713</td>\n",
       "    </tr>\n",
       "    <tr>\n",
       "      <th>5</th>\n",
       "      <td>die</td>\n",
       "      <td>0.229448</td>\n",
       "    </tr>\n",
       "    <tr>\n",
       "      <th>6</th>\n",
       "      <td>lock</td>\n",
       "      <td>0.195057</td>\n",
       "    </tr>\n",
       "    <tr>\n",
       "      <th>7</th>\n",
       "      <td>cast</td>\n",
       "      <td>0.186242</td>\n",
       "    </tr>\n",
       "    <tr>\n",
       "      <th>8</th>\n",
       "      <td>brass</td>\n",
       "      <td>0.185882</td>\n",
       "    </tr>\n",
       "    <tr>\n",
       "      <th>9</th>\n",
       "      <td>line</td>\n",
       "      <td>0.166532</td>\n",
       "    </tr>\n",
       "  </tbody>\n",
       "</table>\n",
       "</div>"
      ],
      "text/plain": [
       "  feature     tfidf\n",
       "0     key  0.353601\n",
       "1    zinc  0.349395\n",
       "2   prime  0.330694\n",
       "3     rim  0.324199\n",
       "4  cylind  0.285713\n",
       "5     die  0.229448\n",
       "6    lock  0.195057\n",
       "7    cast  0.186242\n",
       "8   brass  0.185882\n",
       "9    line  0.166532"
      ]
     },
     "execution_count": 42,
     "metadata": {},
     "output_type": "execute_result"
    }
   ],
   "source": [
    "# show the top N words used in the given document of our matrix\n",
    "def top_feats_in_doc(Xtr, features, row_id, top_n=25):\n",
    "    ''' Top tfidf features in specific document (matrix row) '''\n",
    "    row = np.squeeze(Xtr[row_id].toarray())\n",
    "    return top_tfidf_feats(row, features, top_n)\n",
    "\n",
    "\n",
    "# we can see that this document seems to be about a metal or something containing zinc\n",
    "top_feats_in_doc(df_train_x, tfv.get_feature_names(), 1, 10)"
   ]
  },
  {
   "cell_type": "code",
   "execution_count": 43,
   "metadata": {
    "scrolled": true
   },
   "outputs": [
    {
     "name": "stdout",
     "output_type": "stream",
     "text": [
      "Overall Top Features Across the Corpus: \n",
      "\n"
     ]
    },
    {
     "data": {
      "text/html": [
       "<div>\n",
       "<style scoped>\n",
       "    .dataframe tbody tr th:only-of-type {\n",
       "        vertical-align: middle;\n",
       "    }\n",
       "\n",
       "    .dataframe tbody tr th {\n",
       "        vertical-align: top;\n",
       "    }\n",
       "\n",
       "    .dataframe thead th {\n",
       "        text-align: right;\n",
       "    }\n",
       "</style>\n",
       "<table border=\"1\" class=\"dataframe\">\n",
       "  <thead>\n",
       "    <tr style=\"text-align: right;\">\n",
       "      <th></th>\n",
       "      <th>feature</th>\n",
       "      <th>tfidf</th>\n",
       "    </tr>\n",
       "  </thead>\n",
       "  <tbody>\n",
       "    <tr>\n",
       "      <th>0</th>\n",
       "      <td>light</td>\n",
       "      <td>0.043241</td>\n",
       "    </tr>\n",
       "    <tr>\n",
       "      <th>1</th>\n",
       "      <td>water</td>\n",
       "      <td>0.019861</td>\n",
       "    </tr>\n",
       "    <tr>\n",
       "      <th>2</th>\n",
       "      <td>lead</td>\n",
       "      <td>0.019040</td>\n",
       "    </tr>\n",
       "    <tr>\n",
       "      <th>3</th>\n",
       "      <td>door</td>\n",
       "      <td>0.017851</td>\n",
       "    </tr>\n",
       "    <tr>\n",
       "      <th>4</th>\n",
       "      <td>oven</td>\n",
       "      <td>0.016336</td>\n",
       "    </tr>\n",
       "    <tr>\n",
       "      <th>5</th>\n",
       "      <td>cook</td>\n",
       "      <td>0.015384</td>\n",
       "    </tr>\n",
       "    <tr>\n",
       "      <th>6</th>\n",
       "      <td>shower</td>\n",
       "      <td>0.013561</td>\n",
       "    </tr>\n",
       "    <tr>\n",
       "      <th>7</th>\n",
       "      <td>wash</td>\n",
       "      <td>0.012827</td>\n",
       "    </tr>\n",
       "    <tr>\n",
       "      <th>8</th>\n",
       "      <td>cycl</td>\n",
       "      <td>0.012557</td>\n",
       "    </tr>\n",
       "    <tr>\n",
       "      <th>9</th>\n",
       "      <td>mirror</td>\n",
       "      <td>0.012227</td>\n",
       "    </tr>\n",
       "  </tbody>\n",
       "</table>\n",
       "</div>"
      ],
      "text/plain": [
       "  feature     tfidf\n",
       "0   light  0.043241\n",
       "1   water  0.019861\n",
       "2    lead  0.019040\n",
       "3    door  0.017851\n",
       "4    oven  0.016336\n",
       "5    cook  0.015384\n",
       "6  shower  0.013561\n",
       "7    wash  0.012827\n",
       "8    cycl  0.012557\n",
       "9  mirror  0.012227"
      ]
     },
     "execution_count": 43,
     "metadata": {},
     "output_type": "execute_result"
    }
   ],
   "source": [
    "# calling this with grp_ids=None will return the most important\n",
    "# words across the whole corpus\n",
    "def top_mean_feats(Xtr, features, grp_ids=None, min_tfidf=0.1, top_n=10):\n",
    "    ''' Return the top n features that on average are most important amongst documents in rows\n",
    "        indentified by indices in grp_ids. '''\n",
    "    if grp_ids:\n",
    "        D = Xtr[grp_ids].toarray()\n",
    "    else:\n",
    "        D = Xtr.toarray()\n",
    "\n",
    "    D[D < min_tfidf] = 0\n",
    "    tfidf_means = np.mean(D, axis=0)\n",
    "    return top_tfidf_feats(tfidf_means, features, top_n)\n",
    "\n",
    "\n",
    "\n",
    "print('Overall Top Features Across the Corpus: \\n')\n",
    "top_mean_feats(df_train_x, tfv.get_feature_names())"
   ]
  },
  {
   "cell_type": "markdown",
   "metadata": {},
   "source": [
    "For shared tokens across classes this tells us a little bit about how a classifier may predict which class the observation will end up"
   ]
  },
  {
   "cell_type": "code",
   "execution_count": 48,
   "metadata": {
    "scrolled": false
   },
   "outputs": [
    {
     "name": "stdout",
     "output_type": "stream",
     "text": [
      "Top features by Class: \n",
      "\n",
      "Class 0\n",
      "Class 1\n"
     ]
    },
    {
     "data": {
      "image/png": "[encoded data removed]",
      "text/plain": [
       "<Figure size 864x648 with 2 Axes>"
      ]
     },
     "metadata": {},
     "output_type": "display_data"
    }
   ],
   "source": [
    "def top_feats_by_class(Xtr, y, features, min_tfidf=0.1, top_n=25):\n",
    "    ''' Return a list of dfs, where each df holds top_n features and their mean tfidf value\n",
    "        calculated across documents with the same class label. '''\n",
    "    dfs = []\n",
    "    labels = np.unique(y)\n",
    "    for label in labels:\n",
    "        ids = np.where(y==label)\n",
    "        feats_df = top_mean_feats(Xtr, features, ids, min_tfidf=min_tfidf, top_n=top_n)\n",
    "        feats_df.label = label\n",
    "        dfs.append(feats_df)\n",
    "    return dfs\n",
    "\n",
    "def plot_tfidf_classfeats_h(dfs):\n",
    "    fig = plt.figure(figsize=(12, 9), facecolor=\"w\")\n",
    "    x = np.arange(len(dfs[0]))\n",
    "    for i, df in enumerate(dfs):\n",
    "\n",
    "        ax = fig.add_subplot(1, len(dfs), i+1)\n",
    "        ax.spines[\"top\"].set_visible(False)\n",
    "        ax.spines[\"right\"].set_visible(False)\n",
    "        ax.set_frame_on(False)\n",
    "        ax.get_xaxis().tick_bottom()\n",
    "        ax.get_yaxis().tick_left()\n",
    "        ax.set_xlabel(\"Mean Tf-Idf Score\", labelpad=16, fontsize=14)\n",
    "        ax.set_title(\"label = \" + str(df.label), fontsize=16)\n",
    "        ax.ticklabel_format(axis='x', style='sci', scilimits=(-2,2))\n",
    "\n",
    "        ax.barh(x, df.tfidf, align='center', color='#3F5D7D')\n",
    "        ax.set_yticks(x)\n",
    "        ax.set_ylim([-1, x[-1]+1])\n",
    "        yticks = ax.set_yticklabels(df.feature)\n",
    "        plt.subplots_adjust(bottom=0.09, right=0.97, left=0.15, top=0.95, wspace=0.52)\n",
    "\n",
    "    plt.show()\n",
    "\n",
    "\n",
    "# returns a pair of dataframes by class and there top features\n",
    "print('Top features by Class: \\n')\n",
    "\n",
    "by_class = top_feats_by_class(df_train_x, df_train['SMART_HM_C'], tfv.get_feature_names())\n",
    "\n",
    "\n",
    "for df in by_class:\n",
    "    print('Class {}'.format(df.label))\n",
    "plot_tfidf_classfeats_h(by_class)"
   ]
  }
 ],
 "metadata": {
  "kernelspec": {
   "display_name": "Python 3",
   "language": "python",
   "name": "python3"
  },
  "language_info": {
   "codemirror_mode": {
    "name": "ipython",
    "version": 3
   },
   "file_extension": ".py",
   "mimetype": "text/x-python",
   "name": "python",
   "nbconvert_exporter": "python",
   "pygments_lexer": "ipython3",
   "version": "3.7.3"
  }
 },
 "nbformat": 4,
 "nbformat_minor": 2
}
